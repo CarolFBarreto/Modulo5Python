{
  "nbformat": 4,
  "nbformat_minor": 0,
  "metadata": {
    "colab": {
      "provenance": []
    },
    "kernelspec": {
      "name": "python3",
      "display_name": "Python 3"
    },
    "language_info": {
      "name": "python"
    }
  },
  "cells": [
    {
      "cell_type": "code",
      "execution_count": 36,
      "metadata": {
        "colab": {
          "base_uri": "https://localhost:8080/"
        },
        "id": "jfkXC7C8o7_D",
        "outputId": "648ce95f-7de9-40e4-fd8c-722b76d664b5"
      },
      "outputs": [
        {
          "output_type": "stream",
          "name": "stdout",
          "text": [
            "Seja bem-vindo à calculadora inteligente! Selecione a opção que deseja:\n",
            "1-Realizar cálculos; 2-Sair 2\n",
            "Agradecemos por ter utilizado a Calculadora Inteligente. Até a próxima!\n"
          ]
        }
      ],
      "source": [
        "from re import I\n",
        "#Calculadora inteligente\n",
        "\n",
        "#Menu\n",
        "print('Seja bem-vindo à calculadora inteligente! Selecione a opção que deseja:')\n",
        "selecao_menu=input('1-Realizar cálculos; 2-Sair ')\n",
        "selecao_menu=int(selecao_menu)\n",
        "while (selecao_menu!=2):\n",
        "  while(selecao_menu !=1 and selecao_menu!=2):\n",
        "    selecao_menu=input('Desculpe, não entendi o que você deseja fazer. Digite 1 caso deseje realizar cálculos e digite 2 caso queira sair da calculadora. ')\n",
        "    selecao_menu=int(selecao_menu)\n",
        "  if (selecao_menu==1):\n",
        "    i=input('Digite quantos números deseja incluir no cálculo (Máximo 5): ')\n",
        "    i=int(i)\n",
        "    while (i>5 or i<2):\n",
        "      i=int(input('Desculpe, digite uma quantidade entre 2 e 5.' ))\n",
        "    lista=[]\n",
        "    for val in range(i):\n",
        "      num=float(input('Digite o número: '))\n",
        "      lista.append(num)\n",
        "      val+=1\n",
        "    print('Ok! Agora informe qual operação matemática deseja relizar')\n",
        "    selecao_operacao=input('1-Multiplicação; 2-Soma; 3-Média; 4-Divisão ')\n",
        "    selecao_operacao=int(selecao_operacao)\n",
        "    while(selecao_operacao!= 1 and selecao_operacao!=2 and selecao_operacao!=3 and selecao_operacao!=4):\n",
        "      selecao_operacao=input('Desculpe, não entendi o que você deseja fazer. Selecione a operação desejada: 1-Multiplicação; 2-Soma; 3-Média; 4-Divisão. ')\n",
        "      selecao_operacao=int(selecao_operacao)\n",
        "    if(selecao_operacao==1):\n",
        "      resultado=1\n",
        "      for numero in lista:\n",
        "        resultado*=numero\n",
        "    elif (selecao_operacao==2):\n",
        "      resultado=sum(lista)\n",
        "    elif (selecao_operacao==3):\n",
        "      resultado=sum(lista)/len(lista)\n",
        "    elif(selecao_operacao==4):\n",
        "      resultado=lista[0]\n",
        "      for num in lista[1:]:\n",
        "        if(num!=0):\n",
        "          resultado/=num\n",
        "        else:\n",
        "          print(\"Erro: Divisão por zero detectada\")\n",
        "          resultado='Erro'\n",
        "          break\n",
        "    print('O resultado é: ',resultado)\n",
        "    selecao_menu=int(input('O que deseja fazer agora? 1-Realizar cálculos; 2-Sair '))\n",
        "print('Agradecemos por ter utilizado a Calculadora Inteligente. Até a próxima!')\n",
        "\n",
        "\n"
      ]
    }
  ]
}